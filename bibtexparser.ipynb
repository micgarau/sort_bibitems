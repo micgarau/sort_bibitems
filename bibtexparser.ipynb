{
 "cells": [
  {
   "cell_type": "code",
   "execution_count": 6,
   "metadata": {},
   "outputs": [],
   "source": [
    "import re\n",
    "import pandas as pd"
   ]
  },
  {
   "cell_type": "code",
   "execution_count": 55,
   "metadata": {},
   "outputs": [],
   "source": [
    "fname = \"table5\""
   ]
  },
  {
   "cell_type": "code",
   "execution_count": 2,
   "metadata": {},
   "outputs": [],
   "source": [
    "with open('bibtex.bib') as bibtex_file:\n",
    "    bib = bibtex_file.read()"
   ]
  },
  {
   "cell_type": "code",
   "execution_count": 3,
   "metadata": {},
   "outputs": [],
   "source": [
    "text = re.sub('\\\\\\\\', '\\\\\\\\\\\\\\\\', bib)\n",
    "\n",
    "    # extract text inside thebibliography environment\n",
    "matcher = re.compile(r'\\\\\\\\begin{thebibliography}.*\\n'\n",
    "                         r'([\\s\\S]*)'\n",
    "                         r'\\\\\\\\end{thebibliography}')\n",
    "bibitems_text = matcher.findall(text)[0]"
   ]
  },
  {
   "cell_type": "code",
   "execution_count": 5,
   "metadata": {},
   "outputs": [],
   "source": [
    "bibitems = dict()\n",
    "matcher = re.compile(r\"\\\\bibitem*\\[([^]]*)\\]\\{([^}]+)\\}\")#\\s*((?:.*\\n)*?)(?=\\n)\n",
    "for match in matcher.findall(bibitems_text):\n",
    "    bibitems[match[1]]=match[0]"
   ]
  },
  {
   "cell_type": "code",
   "execution_count": 16,
   "metadata": {},
   "outputs": [],
   "source": [
    "bibitems_df = pd.DataFrame(bibitems.items())"
   ]
  },
  {
   "cell_type": "code",
   "execution_count": 56,
   "metadata": {},
   "outputs": [],
   "source": [
    "with open(fname+'.tex') as tableF:\n",
    "    table = tableF.readlines()"
   ]
  },
  {
   "cell_type": "code",
   "execution_count": 57,
   "metadata": {},
   "outputs": [],
   "source": [
    "lines_dict = dict()\n",
    "for line in table:\n",
    "    key = line.split(\"\\\\cite{\")[1].split(\"}\")[0]\n",
    "    idx = bibitems_df.loc[bibitems_df[0]==key].index\n",
    "    lines_dict[idx[0]]=line.replace(\"\\n\",\"\\\\\").replace(\"\\\\\\\\\",\"\\\\\")"
   ]
  },
  {
   "cell_type": "code",
   "execution_count": 58,
   "metadata": {},
   "outputs": [],
   "source": [
    "lines_df = pd.DataFrame(lines_dict.items())"
   ]
  },
  {
   "cell_type": "code",
   "execution_count": 59,
   "metadata": {},
   "outputs": [],
   "source": [
    "lines_sdf = lines_df.sort_values(by=[0])"
   ]
  },
  {
   "cell_type": "code",
   "execution_count": 60,
   "metadata": {},
   "outputs": [],
   "source": [
    "f = open(fname+\"_edit.tex\",\"w\")\n",
    "lst = []\n",
    "for idx, row in lines_sdf.iterrows():\n",
    "    lst.append(row[1]+\"\\n\")\n",
    "f.writelines(lst)\n",
    "f.close()"
   ]
  },
  {
   "cell_type": "code",
   "execution_count": null,
   "metadata": {},
   "outputs": [],
   "source": []
  }
 ],
 "metadata": {
  "interpreter": {
   "hash": "916dbcbb3f70747c44a77c7bcd40155683ae19c65e1c03b4aa3499c5328201f1"
  },
  "kernelspec": {
   "display_name": "Python 3.8.10 64-bit",
   "language": "python",
   "name": "python3"
  },
  "language_info": {
   "codemirror_mode": {
    "name": "ipython",
    "version": 3
   },
   "file_extension": ".py",
   "mimetype": "text/x-python",
   "name": "python",
   "nbconvert_exporter": "python",
   "pygments_lexer": "ipython3",
   "version": "3.9.9"
  },
  "orig_nbformat": 4
 },
 "nbformat": 4,
 "nbformat_minor": 2
}
